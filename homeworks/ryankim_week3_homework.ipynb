{
 "cells": [
  {
   "cell_type": "markdown",
   "metadata": {},
   "source": [
    "# Googling how to do something is NOT cheating. \n",
    "# Googling how to do figure something out is ENCOURAGED. "
   ]
  },
  {
   "cell_type": "markdown",
   "metadata": {},
   "source": [
    "## #1 Figure out how to print the current date and time. \n",
    "The solution should be in this format:  2021-08-05 11:56:30 (YYYY-MM-DD HH:MM:SS)\n",
    "\n",
    "Hint:  You're going to have to import a library"
   ]
  },
  {
   "cell_type": "code",
   "execution_count": 1,
   "metadata": {},
   "outputs": [
    {
     "name": "stdout",
     "output_type": "stream",
     "text": [
      "2025-08-06 20:07:27.372181\n"
     ]
    }
   ],
   "source": [
    "from datetime import datetime\n",
    "print(datetime.now())"
   ]
  },
  {
   "cell_type": "markdown",
   "metadata": {},
   "source": [
    "## #2 Write a function that accepts the radius of a circle and returns the area of a circle.  \n",
    "The function for the area of a circle is pi * radius squared.  "
   ]
  },
  {
   "cell_type": "code",
   "execution_count": 3,
   "metadata": {},
   "outputs": [],
   "source": [
    "import math\n",
    "def circleArea(radius):\n",
    "    return (radius**2)*(math.pi)"
   ]
  },
  {
   "cell_type": "markdown",
   "metadata": {},
   "source": [
    "## #3 Write a function that takes a list of numbers and returns True of all number in the list are unique and returns False if the list contains duplicate numbers. \n",
    "* Hint, maybe think of using a set()\n",
    "\n",
    "Input:  input_list = [2,4,5,5,7,9]\n",
    "\n",
    "Expected Output:  False"
   ]
  },
  {
   "cell_type": "code",
   "execution_count": 10,
   "metadata": {},
   "outputs": [
    {
     "name": "stdout",
     "output_type": "stream",
     "text": [
      "False\n",
      "True\n"
     ]
    }
   ],
   "source": [
    "def numIsUnique(list):\n",
    "    if sorted(set(list))==sorted(list):\n",
    "        return True\n",
    "    return False\n",
    "\n",
    "print(numIsUnique([2,4,5,5,7,9]))\n",
    "print(numIsUnique([2,4,5,7,9]))"
   ]
  },
  {
   "cell_type": "markdown",
   "metadata": {},
   "source": [
    "## #4 Write a Python program to count the number of each character of a given text of a text file.\n",
    "* Use the text file called 'lil-wayne.txt' in the data folder.  \n",
    "* Convert all the characters to uppercase first, then count them.  \n",
    "* Use a dictionary in which the keys of the dictionary are the characters, and the values are the counts of that character. \n",
    "\n",
    "Expected Result:  `{'D': 74, 'W': 63, 'A': 211, 'Y': 44, 'N': 165, 'E': 274, ' ': 522, 'M': 77, 'I': 185, 'C': 60, 'H': 122, 'L': 126, 'R': 152, 'T': 180, 'J': 8, '.': 26, '(': 12, 'B': 59, 'O': 145, 'S': 152, 'P': 39, '2': 24, '7': 7, ',': 37, '1': 28, '9': 16, '8': 6, ')': 12, '[': 14, ']': 14, 'K': 13, 'F': 44, 'G': 53, 'X': 5, 'U': 66, 'V': 20, '3': 2, '4': 4, '5': 5, '6': 3, '0': 36, '\\n': 6, '-': 6, ';': 1, '!': 1, '\"': 8, \"'\": 3, '—': 1}`"
   ]
  },
  {
   "cell_type": "code",
   "execution_count": 18,
   "metadata": {},
   "outputs": [
    {
     "name": "stdout",
     "output_type": "stream",
     "text": [
      "DWAYNE MICHAEL CARTER JR. (BORN SEPTEMBER 27, 1982),[2] KNOWN PROFESSIONALLY AS LIL WAYNE, IS AN AMERICAN RAPPER, SINGER, SONGWRITER AND RECORD EXECUTIVE.. HE IS COMMONLY REGARDED AS ONE OF THE MOST INFLUENTIAL HIP HOP ARTISTS OF HIS GENERATION,[3] AND OFTEN CITED AS ONE OF THE GREATEST RAPPERS OF ALL TIME.[4][5] HIS CAREER BEGAN IN 1995, AT THE AGE OF 12, WHEN HE WAS SIGNED BY RAPPER BIRDMAN, JOINING CASH MONEY RECORDS AS THE YOUNGEST MEMBER OF THE LABEL.[6] FROM THEN ON, WAYNE WAS THE FLAGSHIP ARTIST OF CASH MONEY RECORDS BEFORE ENDING HIS ASSOCIATION WITH THE COMPANY IN JUNE 2018.[7]\n",
      "\n",
      "IN 1995, WAYNE WAS PUT IN A DUO WITH LABEL-MATE B.G. (AT THE TIME KNOWN AS LIL DOOGIE) AND THEY RECORDED AN ALBUM, TRUE STORY, RELEASED THAT YEAR, ALTHOUGH WAYNE (AT THE TIME KNOWN AS BABY D) ONLY APPEARED ON THREE TRACKS.[8] WAYNE AND B.G. SOON JOINED THE SOUTHERN HIP HOP GROUP HOT BOYS, WITH CASH MONEY LABEL-MATES JUVENILE AND TURK IN 1997; THEY RELEASED THEIR DEBUT ALBUM GET IT HOW U LIVE! IN OCTOBER THAT YEAR. THE HOT BOYS BECAME POPULAR FOLLOWING THE RELEASE OF THE ALBUM GUERRILLA WARFARE (1999) AND THE SONG BLING BLING.\n",
      "\n",
      "LIL WAYNES SOLO DEBUT ALBUM THA BLOCK IS HOT (1999) WAS HIS SOLO BREAKTHROUGH, AND HE REACHED HIGHER POPULARITY WITH HIS FOURTH ALBUM THA CARTER (2004) AND FIFTH ALBUM THA CARTER II (2005), AS WELL AS SEVERAL MIXTAPES AND COLLABORATIONS THROUGHOUT 2006 AND 2007. HE GAINED MORE PROMINENCE WITHIN THE MUSIC INDUSTRY WITH HIS SIXTH ALBUM THA CARTER III (2008), WITH FIRST-WEEK SALES OF OVER ONE MILLION COPIES IN THE US. THE ALBUM WON THE GRAMMY AWARD FOR BEST RAP ALBUM AND INCLUDED SUCCESSFUL SINGLES A MILLI, GOT MONEY (FEATURING T-PAIN), AND LOLLIPOP (FEATURING STATIC MAJOR)—THE LATTER BEING HIS FIRST SINGLE TO REACH NUMBER ONE ON THE BILLBOARD HOT 100. IN FEBRUARY 2010, WAYNE RELEASED HIS SEVENTH STUDIO ALBUM, REBIRTH, WHICH EXPERIMENTED WITH RAP ROCK AND WAS MET WITH GENERALLY NEGATIVE REVIEWS. A MONTH LATER IN MARCH 2010, LIL WAYNE BEGAN SERVING AN 8-MONTH JAIL SENTENCE IN NEW YORK AFTER BEING CONVICTED OF CRIMINAL POSSESSION OF A WEAPON STEMMING FROM AN INCIDENT IN JULY 2007. HIS EIGHTH STUDIO ALBUM I AM NOT A HUMAN BEING (2010) WAS RELEASED DURING HIS INCARCERATION, WHILE HIS 2011 ALBUM THA CARTER IV WAS RELEASED FOLLOWING HIS RELEASE. THA CARTER IV SOLD 964,000 COPIES IN ITS FIRST WEEK IN THE UNITED STATES.[9] HIS TWELFTH STUDIO ALBUM THA CARTER V WAS RELEASED IN 2018 AFTER MULTIPLE DELAYS. WAYNES THIRTEENTH ALBUM, FUNERAL, WAS RELEASED IN EARLY 2020.[10]\n",
      "\n",
      "LIL WAYNE HAS SOLD OVER 120 MILLION RECORDS WORLDWIDE, INCLUDING MORE THAN 20 MILLION ALBUMS AND 70 MILLION DIGITAL TRACKS IN THE UNITED STATES, MAKING HIM ONE OF THE WORLDS BEST-SELLING MUSIC ARTISTS.[11][12][13] HE HAS WON FIVE GRAMMY AWARDS, 11 BET AWARDS, FOUR BILLBOARD MUSIC AWARDS, TWO MTV VIDEO MUSIC AWARDS AND EIGHT NAACP IMAGE AWARDS. ON SEPTEMBER 27, 2012, HE BECAME THE FIRST MALE ARTIST TO SURPASS ELVIS PRESLEY WITH THE MOST ENTRIES ON THE BILLBOARD HOT 100, WITH 109 SONGS.[14][15] LIL WAYNE ALSO CURRENTLY SERVES AS THE CHIEF EXECUTIVE OFFICER (CEO) OF HIS OWN LABEL, YOUNG MONEY ENTERTAINMENT.\n",
      "{'D': 74, 'W': 63, 'A': 211, 'Y': 44, 'N': 165, 'E': 274, ' ': 522, 'M': 77, 'I': 185, 'C': 60, 'H': 122, 'L': 126, 'R': 152, 'T': 180, 'J': 8, '.': 26, '(': 12, 'B': 59, 'O': 145, 'S': 152, 'P': 39, '2': 24, '7': 7, ',': 37, '1': 28, '9': 16, '8': 6, ')': 12, '[': 14, ']': 14, 'K': 13, 'F': 44, 'G': 53, 'X': 5, 'U': 66, 'V': 20, '3': 2, '4': 4, '5': 5, '6': 3, '0': 36, '\\n': 6, '-': 6, ';': 1, '!': 1, '—': 1}\n"
     ]
    }
   ],
   "source": [
    "with open(\"/workspaces/2025-python-summer-prep/Week-03/intermediate/data/lil-wayne.txt\", \"r\") as file:\n",
    "    text = file.read()\n",
    "\n",
    "text = text.upper()\n",
    "print(text)\n",
    "dictionary = {}\n",
    "\n",
    "for i in text:\n",
    "    if i not in dictionary:\n",
    "        dictionary[i]=1\n",
    "    else:\n",
    "        dictionary[i]+=1\n",
    "\n",
    "print(dictionary)"
   ]
  },
  {
   "cell_type": "markdown",
   "metadata": {},
   "source": [
    "# 4.5 Figure out how to sort the dictionary to find which character appears the most."
   ]
  },
  {
   "cell_type": "code",
   "execution_count": 20,
   "metadata": {},
   "outputs": [
    {
     "name": "stdout",
     "output_type": "stream",
     "text": [
      "{' ': 522, 'E': 274, 'A': 211, 'I': 185, 'T': 180, 'N': 165, 'R': 152, 'S': 152, 'O': 145, 'L': 126, 'H': 122, 'M': 77, 'D': 74, 'U': 66, 'W': 63, 'C': 60, 'B': 59, 'G': 53, 'Y': 44, 'F': 44, 'P': 39, ',': 37, '0': 36, '1': 28, '.': 26, '2': 24, 'V': 20, '9': 16, '[': 14, ']': 14, 'K': 13, '(': 12, ')': 12, 'J': 8, '7': 7, '8': 6, '\\n': 6, '-': 6, 'X': 5, '5': 5, '4': 4, '6': 3, '3': 2, ';': 1, '!': 1, '—': 1}\n"
     ]
    }
   ],
   "source": [
    "print(dict(sorted(dictionary.items(), key = lambda item: item[1], reverse = True)))"
   ]
  },
  {
   "cell_type": "markdown",
   "metadata": {},
   "source": [
    "## #5 Using the list below...\n",
    "* Remove the fourth number from the list.\n",
    "* Take that number you just removed and multiply the last number of the list by that number. \n",
    "* Append that number to the end of the list.\n",
    "* Print the list\n",
    "\n",
    "INPUT: [1, 1, 2, 3, 5, 8, 13, 21]\n",
    "\n",
    "EXPECTED OUTPUT:  [1, 1, 2, 5, 8, 13, 21, 63]\n",
    "\n"
   ]
  },
  {
   "cell_type": "code",
   "execution_count": 21,
   "metadata": {},
   "outputs": [
    {
     "name": "stdout",
     "output_type": "stream",
     "text": [
      "[1, 1, 2, 5, 8, 13, 21, 63]\n"
     ]
    }
   ],
   "source": [
    "list1 = [1, 1, 2, 3, 5, 8, 13, 21]\n",
    "\n",
    "temp = list1[3]\n",
    "del list1[3]\n",
    "\n",
    "list1.append(temp*list1[-1])\n",
    "print(list1)"
   ]
  },
  {
   "cell_type": "markdown",
   "metadata": {},
   "source": [
    "## #6 Using the list below, make a new list that contains only the numbers from the original list that are divisible by three.\n",
    "\n",
    "* Input:  original_list = [2, 3, 6, 8, 9, 15, 19, 21]\n",
    "* Expected new list:  [3, 6, 9, 15, 21]\n"
   ]
  },
  {
   "cell_type": "code",
   "execution_count": 22,
   "metadata": {},
   "outputs": [
    {
     "name": "stdout",
     "output_type": "stream",
     "text": [
      "[3, 6, 9, 15, 21]\n"
     ]
    }
   ],
   "source": [
    "original_list = [2, 3, 6, 8, 9, 15, 19, 21]\n",
    "\n",
    "new_list = [i for i in original_list if i%3==0]\n",
    "\n",
    "print(new_list)"
   ]
  },
  {
   "cell_type": "markdown",
   "metadata": {},
   "source": [
    "## #7 Reverse the list below"
   ]
  },
  {
   "cell_type": "code",
   "execution_count": 26,
   "metadata": {},
   "outputs": [
    {
     "name": "stdout",
     "output_type": "stream",
     "text": [
      "[21, 19, 15, 9, 8, 6, 3, 2]\n"
     ]
    }
   ],
   "source": [
    "original_list = [2, 3, 6, 8, 9, 15, 19, 21]\n",
    "\n",
    "original_list.reverse()\n",
    "\n",
    "print(original_list)"
   ]
  },
  {
   "cell_type": "markdown",
   "metadata": {},
   "source": [
    "## #8 Using the list below, turn every item of the list into its square.  \n",
    "* Input original_list = [1, 2, 3, 4, 5, 6, 7]\n",
    "* Expected new_list:  [1, 4, 9, 16, 25, 36, 49]\n"
   ]
  },
  {
   "cell_type": "code",
   "execution_count": 27,
   "metadata": {},
   "outputs": [
    {
     "name": "stdout",
     "output_type": "stream",
     "text": [
      "[1, 4, 9, 16, 25, 36, 49]\n"
     ]
    }
   ],
   "source": [
    "original_list = [1, 2, 3, 4, 5, 6, 7]\n",
    "\n",
    "new_list = [i**2 for i in original_list]\n",
    "\n",
    "print(new_list)"
   ]
  },
  {
   "cell_type": "markdown",
   "metadata": {},
   "source": [
    "## #9  Given a two Python list. Iterate both lists simultaneously such that list1 should display item in original order and list2 in reverse order.\n",
    "Given input:\n",
    "```\n",
    "list1 = [10, 20, 30, 40]\n",
    "list2 = [100, 200, 300, 400]\n",
    "```\n",
    "\n",
    "Expected Output:\n",
    "```\n",
    "10 400\n",
    "20 300\n",
    "30 200\n",
    "40 100\n",
    "```"
   ]
  },
  {
   "cell_type": "code",
   "execution_count": 31,
   "metadata": {},
   "outputs": [
    {
     "name": "stdout",
     "output_type": "stream",
     "text": [
      "10 400\n",
      "20 300\n",
      "30 200\n",
      "40 100\n"
     ]
    }
   ],
   "source": [
    "list1 = [10, 20, 30, 40]\n",
    "list2 = [100, 200, 300, 400]\n",
    "list2.reverse()\n",
    "for i, j in zip(list1, list2):\n",
    "    print(i,j)"
   ]
  },
  {
   "cell_type": "markdown",
   "metadata": {},
   "source": [
    "## #10 Remove empty strings from the list of strings.\n",
    "Input:  `list_of_strings = ['I', 'love', '', '', 'data', '', 'science', '!']`\n",
    "\n",
    "Expected Output:  `['I', 'love', 'data', 'science', '!']`"
   ]
  },
  {
   "cell_type": "code",
   "execution_count": 37,
   "metadata": {},
   "outputs": [
    {
     "name": "stdout",
     "output_type": "stream",
     "text": [
      "['I', 'love', 'data', 'science', '!']\n"
     ]
    }
   ],
   "source": [
    "list_of_strings = ['I', 'love', '', '', 'data', '', 'science', '!']\n",
    "newlist=[]\n",
    "for j in (list_of_strings):\n",
    "    if j!=\"\":\n",
    "        newlist.append(j)\n",
    "\n",
    "print(newlist) "
   ]
  },
  {
   "cell_type": "markdown",
   "metadata": {},
   "source": [
    "##  #11 Check if the value 999 exists in the dicitionary below.  If so, print true, if not print false.\n",
    "\n",
    "Input: sample_dict = {'a': 100, 'b': 999, 'c': 300}\n",
    "\n",
    "Expected Output:  True"
   ]
  },
  {
   "cell_type": "code",
   "execution_count": 40,
   "metadata": {},
   "outputs": [
    {
     "name": "stdout",
     "output_type": "stream",
     "text": [
      "True\n"
     ]
    }
   ],
   "source": [
    "sample_dict = {'a': 100, 'b': 999, 'c': 300}\n",
    "\n",
    "if 999 in sample_dict.values():\n",
    "    print(True)\n",
    "else:\n",
    "    print(False)"
   ]
  },
  {
   "cell_type": "markdown",
   "metadata": {},
   "source": [
    "# #12 Fix all the follow broken code snippets below\n",
    "(I got these examples from a great website, I will reference them later because they have the answers on them.)"
   ]
  },
  {
   "cell_type": "code",
   "execution_count": 43,
   "metadata": {},
   "outputs": [
    {
     "name": "stdout",
     "output_type": "stream",
     "text": [
      "Greetings, hater of pirates!\n"
     ]
    }
   ],
   "source": [
    "greeting = \"Hello, possible pirate! What's the password?\"\n",
    "password = 'admin'\n",
    "message = greeting+password\n",
    "if message in (\"Arrr!\"):\n",
    "\tprint(\"Go away, pirate.\")\n",
    "else:\n",
    "\tprint(\"Greetings, hater of pirates!\")"
   ]
  },
  {
   "cell_type": "code",
   "execution_count": 47,
   "metadata": {},
   "outputs": [
    {
     "name": "stdout",
     "output_type": "stream",
     "text": [
      "11425.0\n"
     ]
    }
   ],
   "source": [
    "pages = 457\n",
    "word_per_page = 250\n",
    "number_of_pieces = 100\n",
    "\n",
    "each_chunk = (457 * 250)/10\n",
    "print(each_chunk)"
   ]
  },
  {
   "cell_type": "code",
   "execution_count": null,
   "metadata": {},
   "outputs": [],
   "source": []
  },
  {
   "cell_type": "code",
   "execution_count": null,
   "metadata": {},
   "outputs": [],
   "source": []
  },
  {
   "cell_type": "code",
   "execution_count": null,
   "metadata": {},
   "outputs": [],
   "source": []
  },
  {
   "cell_type": "markdown",
   "metadata": {},
   "source": [
    "# Extra Credit"
   ]
  },
  {
   "cell_type": "markdown",
   "metadata": {},
   "source": [
    "## Using pandas, read the csv file in the data folder called `titianic.csv` and store it as a variable named `df`."
   ]
  },
  {
   "cell_type": "code",
   "execution_count": 52,
   "metadata": {},
   "outputs": [],
   "source": [
    "import pandas as pd\n",
    "df = pd.read_csv(\"/workspaces/2025-python-summer-prep/Week-03/intermediate/data/titanic.csv\")"
   ]
  },
  {
   "cell_type": "markdown",
   "metadata": {},
   "source": [
    "## I know we didn't cover this, but figure out how to find the mean age of the age column in your dataframe. "
   ]
  },
  {
   "cell_type": "code",
   "execution_count": 54,
   "metadata": {},
   "outputs": [
    {
     "name": "stdout",
     "output_type": "stream",
     "text": [
      "29.69911764705882\n"
     ]
    }
   ],
   "source": [
    "print(df[\"age\"].mean())"
   ]
  },
  {
   "cell_type": "markdown",
   "metadata": {},
   "source": [
    "## What was the oldest and youngest ages on the titanic?"
   ]
  },
  {
   "cell_type": "code",
   "execution_count": 55,
   "metadata": {},
   "outputs": [
    {
     "name": "stdout",
     "output_type": "stream",
     "text": [
      "Youngest:  0.42\n",
      "Oldest:  80.0\n"
     ]
    }
   ],
   "source": [
    "print(\"Youngest: \", min(df[\"age\"]))\n",
    "print(\"Oldest: \", max(df[\"age\"]))"
   ]
  },
  {
   "cell_type": "markdown",
   "metadata": {},
   "source": [
    "## How many people embarked from station 'S'?"
   ]
  },
  {
   "cell_type": "code",
   "execution_count": 58,
   "metadata": {},
   "outputs": [
    {
     "name": "stdout",
     "output_type": "stream",
     "text": [
      "644\n"
     ]
    }
   ],
   "source": [
    "df.columns\n",
    "df.head()\n",
    "\n",
    "print(sum(df[\"embarked\"]==\"S\"))"
   ]
  },
  {
   "cell_type": "code",
   "execution_count": null,
   "metadata": {},
   "outputs": [],
   "source": []
  }
 ],
 "metadata": {
  "kernelspec": {
   "display_name": "Python 3",
   "language": "python",
   "name": "python3"
  },
  "language_info": {
   "codemirror_mode": {
    "name": "ipython",
    "version": 3
   },
   "file_extension": ".py",
   "mimetype": "text/x-python",
   "name": "python",
   "nbconvert_exporter": "python",
   "pygments_lexer": "ipython3",
   "version": "3.12.1"
  }
 },
 "nbformat": 4,
 "nbformat_minor": 4
}
